{
  "cells": [
    {
      "cell_type": "markdown",
      "metadata": {
        "id": "Tce3stUlHN0L"
      },
      "source": [
        "##### Copyright 2025 Google LLC."
      ]
    },
    {
      "cell_type": "code",
      "execution_count": null,
      "metadata": {
        "cellView": "form",
        "id": "tuOe1ymfHZPu"
      },
      "outputs": [],
      "source": [
        "# @title Licensed under the Apache License, Version 2.0 (the \"License\");\n",
        "# you may not use this file except in compliance with the License.\n",
        "# You may obtain a copy of the License at\n",
        "#\n",
        "# https://www.apache.org/licenses/LICENSE-2.0\n",
        "#\n",
        "# Unless required by applicable law or agreed to in writing, software\n",
        "# distributed under the License is distributed on an \"AS IS\" BASIS,\n",
        "# WITHOUT WARRANTIES OR CONDITIONS OF ANY KIND, either express or implied.\n",
        "# See the License for the specific language governing permissions and\n",
        "# limitations under the License."
      ]
    },
    {
      "cell_type": "markdown",
      "metadata": {
        "id": "yeadDkMiISin"
      },
      "source": [
        "# Gemini API: Authentication Quickstart"
      ]
    },
    {
      "cell_type": "markdown",
      "metadata": {
        "id": "lEXQ3OwKIa-O"
      },
      "source": [
        "<a target=\"_blank\" href=\"https://colab.research.google.com/github/google-gemini/cookbook/blob/main/quickstarts/Authentication.ipynb\"><img src=\"https://colab.research.google.com/assets/colab-badge.svg\" height=30/></a>"
      ]
    },
    {
      "cell_type": "markdown",
      "metadata": {
        "id": "df1767a3d1cc"
      },
      "source": [
        "The Gemini API uses API keys for authentication. This notebook walks you through creating an API key, and using it with the Python SDK or a command-line tool like `curl`."
      ]
    },
    {
      "cell_type": "markdown",
      "metadata": {
        "id": "mhFKmRmxi5B-"
      },
      "source": [
        "## Create an API key\n",
        "\n",
        "You can [create](https://aistudio.google.com/app/apikey) your API key using Google AI Studio with a single click.  \n",
        "\n",
        "Remember to treat your API key like a password. Don't accidentally save it in a notebook or source file you later commit to GitHub. This notebook shows you two ways you can securely store your API key.\n",
        "\n",
        "* If you're using Google Colab, it's recommended to store your key in Colab Secrets.\n",
        "\n",
        "* If you're using a different development environment (or calling the Gemini API through `cURL` in your terminal), it's recommended to store your key in an [environment variable](https://en.wikipedia.org/wiki/Environment_variable).\n",
        "\n",
        "Let's start with Colab Secrets."
      ]
    },
    {
      "cell_type": "markdown",
      "metadata": {
        "id": "dEoigYI9Jw_K"
      },
      "source": [
        "## Add your key to Colab Secrets\n",
        "\n",
        "Add your API key to the Colab Secrets manager to securely store it.\n",
        "\n",
        "1. Open your Google Colab notebook and click on the 🔑 **Secrets** tab in the left panel.\n",
        "   \n",
        "   <img src=\"https://storage.googleapis.com/generativeai-downloads/images/secrets.jpg\" alt=\"You can find the Secrets tab on the left panel.\" width=50%>\n",
        "\n",
        "2. Create a new secret with the name `GOOGLE_API_KEY`.\n",
        "3. Copy and paste your API key into the `Value` input box of `GOOGLE_API_KEY`.\n",
        "4. Toggle the button on the left to allow all notebooks access to the secret.\n"
      ]
    },
    {
      "cell_type": "markdown",
      "metadata": {
        "id": "jRY1eioF4gUB"
      },
      "source": [
        "## Install the Python SDK"
      ]
    },
    {
      "cell_type": "code",
      "execution_count": 1,
      "metadata": {
        "id": "xuiLSV7amy3P",
        "colab": {
          "base_uri": "https://localhost:8080/"
        },
        "outputId": "5b0a5b5b-9eba-4e94-d1be-70584a17057a"
      },
      "outputs": [
        {
          "output_type": "stream",
          "name": "stdout",
          "text": [
            "\u001b[?25l   \u001b[90m━━━━━━━━━━━━━━━━━━━━━━━━━━━━━━━━━━━━━━━━\u001b[0m \u001b[32m0.0/199.2 kB\u001b[0m \u001b[31m?\u001b[0m eta \u001b[36m-:--:--\u001b[0m\r\u001b[2K   \u001b[90m━━━━━━━━━━━━━━━━━━━━━━━━━━━━━━━━━━━━━━━━\u001b[0m \u001b[32m199.2/199.2 kB\u001b[0m \u001b[31m5.2 MB/s\u001b[0m eta \u001b[36m0:00:00\u001b[0m\n",
            "\u001b[?25h"
          ]
        }
      ],
      "source": [
        "%pip install -qU 'google-genai>=1.0.0'"
      ]
    },
    {
      "cell_type": "markdown",
      "metadata": {
        "id": "3dw8ygh74mVc"
      },
      "source": [
        "## Configure the SDK with your API key\n",
        "\n",
        "You create a client using your API key, but instead of pasting your key into the notebook, you'll read it from Colab Secrets thanks to `userdata`."
      ]
    },
    {
      "cell_type": "code",
      "execution_count": 2,
      "metadata": {
        "id": "DTl-qZp34sht"
      },
      "outputs": [],
      "source": [
        "from google import genai\n",
        "from google.colab import userdata\n",
        "\n",
        "GOOGLE_API_KEY = userdata.get('GOOGLE_API_KEY')\n",
        "client = genai.Client(api_key=GOOGLE_API_KEY)"
      ]
    },
    {
      "cell_type": "markdown",
      "metadata": {
        "id": "b7ceb7517bf5"
      },
      "source": [
        "Now choose a model. The Gemini API offers different models that are optimized for specific use cases. For more information check [Gemini models](https://ai.google.dev/gemini-api/docs/models)"
      ]
    },
    {
      "cell_type": "code",
      "execution_count": 3,
      "metadata": {
        "id": "7135d9ae3e4b"
      },
      "outputs": [],
      "source": [
        "MODEL_ID = \"gemini-2.5-flash-preview-05-20\" # @param [\"gemini-2.0-flash-lite\",\"gemini-2.0-flash\",\"gemini-2.5-flash-preview-05-20\",\"gemini-2.5-pro-preview-05-06\"] {\"allow-input\":true, isTemplate: true}"
      ]
    },
    {
      "cell_type": "markdown",
      "metadata": {
        "id": "tr7oAO6-nMsE"
      },
      "source": [
        "And that's it! Now you're ready to call the Gemini API."
      ]
    },
    {
      "cell_type": "code",
      "execution_count": 4,
      "metadata": {
        "id": "n6sXnWrJoKoo",
        "colab": {
          "base_uri": "https://localhost:8080/",
          "height": 1000
        },
        "outputId": "51a57fd9-019c-4ba2-ad5c-39c51bde8a1e"
      },
      "outputs": [
        {
          "output_type": "display_data",
          "data": {
            "text/plain": [
              "<IPython.core.display.Markdown object>"
            ],
            "text/markdown": "Python offers very straightforward and efficient ways to sort lists, both in-place and by returning a new sorted list.\n\nHere are the two primary methods:\n\n1.  **`sorted()` function:** Returns a *new* sorted list, leaving the original list unchanged.\n2.  **`list.sort()` method:** Sorts the list *in-place*, meaning it modifies the original list and returns `None`.\n\nLet's look at examples for both.\n\n---\n\n### 1. Using the `sorted()` function (Recommended for general use)\n\nThe `sorted()` function can take any iterable (like a list, tuple, set, string) and always returns a *new* list containing all items from the iterable in ascending order.\n\n**Basic Usage (Ascending Order):**\n\n```python\nmy_list = [3, 1, 4, 1, 5, 9, 2, 6]\n\n# Sorts in ascending order by default\nsorted_list = sorted(my_list)\n\nprint(\"Original list:\", my_list)       # Output: Original list: [3, 1, 4, 1, 5, 9, 2, 6]\nprint(\"Sorted list (new):\", sorted_list) # Output: Sorted list (new): [1, 1, 2, 3, 4, 5, 6, 9]\n```\n\n**Descending Order (`reverse=True`):**\n\n```python\nmy_list = [3, 1, 4, 1, 5, 9, 2, 6]\n\n# Sorts in descending order\ndescending_sorted_list = sorted(my_list, reverse=True)\n\nprint(\"Original list:\", my_list)              # Output: Original list: [3, 1, 4, 1, 5, 9, 2, 6]\nprint(\"Descending sorted list:\", descending_sorted_list) # Output: Descending sorted list: [9, 6, 5, 4, 3, 2, 1, 1]\n```\n\n**Custom Sorting with `key`:**\n\nThe `key` argument allows you to specify a function to be called on each list element prior to making comparisons.\n\n*   **Sorting strings by length:**\n\n    ```python\n    words = [\"apple\", \"banana\", \"kiwi\", \"grapefruit\", \"cat\"]\n\n    # Sorts based on the length of each word\n    sorted_by_length = sorted(words, key=len)\n    print(\"Sorted by length:\", sorted_by_length) # Output: Sorted by length: ['cat', 'kiwi', 'apple', 'banana', 'grapefruit']\n    ```\n\n*   **Sorting a list of dictionaries by a specific key:**\n\n    ```python\n    students = [\n        {\"name\": \"Alice\", \"score\": 85, \"age\": 20},\n        {\"name\": \"Bob\", \"score\": 92, \"age\": 22},\n        {\"name\": \"Charlie\", \"score\": 78, \"age\": 21},\n        {\"name\": \"David\", \"score\": 92, \"age\": 19}\n    ]\n\n    # Sorts by 'score' in ascending order\n    sorted_by_score = sorted(students, key=lambda student: student[\"score\"])\n    print(\"Sorted by score:\", sorted_by_score)\n\n    # Sorts by 'score' in descending order, then by 'age' in ascending for ties\n    # (Python's sort is stable, so original order of equal elements is preserved)\n    # To sort by multiple keys:\n    sorted_by_score_then_age = sorted(students, key=lambda student: (student[\"score\"], student[\"age\"]), reverse=True) # Note: reverse applies to the whole tuple\n    print(\"\\nSorted by score (desc) then age (desc):\")\n    # If you want score desc and age asc: sort by age, then sort by score desc (due to stability)\n    # Or, use itemgetter from operator module for cleaner code on dicts/objects\n\n    # A more common way to sort by score (desc) and then age (asc) for ties\n    sorted_students_complex = sorted(students, key=lambda s: s[\"age\"]) # Sort by age first (asc)\n    sorted_students_complex = sorted(sorted_students_complex, key=lambda s: s[\"score\"], reverse=True) # Then sort by score (desc) - stability preserves age order for equal scores\n    print(\"Sorted by score (desc) then age (asc) for ties:\", sorted_students_complex)\n    ```\n\n---\n\n### 2. Using the `list.sort()` method\n\nThe `sort()` method is a method of the list object itself. It modifies the list *in-place* and returns `None` (it does not return the sorted list). This makes it more memory-efficient if you no longer need the unsorted version of the list.\n\n**Basic Usage (Ascending Order):**\n\n```python\nmy_list = [3, 1, 4, 1, 5, 9, 2, 6]\n\nprint(\"Original list before sort:\", my_list) # Output: Original list before sort: [3, 1, 4, 1, 5, 9, 2, 6]\n\n# Sorts the list in-place\nmy_list.sort()\n\nprint(\"List after in-place sort:\", my_list)  # Output: List after in-place sort: [1, 1, 2, 3, 4, 5, 6, 9]\n```\n\n**Descending Order (`reverse=True`):**\n\n```python\nmy_list = [3, 1, 4, 1, 5, 9, 2, 6]\n\nmy_list.sort(reverse=True)\n\nprint(\"List after in-place descending sort:\", my_list) # Output: List after in-place descending sort: [9, 6, 5, 4, 3, 2, 1, 1]\n```\n\n**Custom Sorting with `key` (same as `sorted()`):**\n\n```python\nwords = [\"apple\", \"banana\", \"kiwi\", \"grapefruit\", \"cat\"]\n\nwords.sort(key=len)\nprint(\"Words list sorted by length (in-place):\", words) # Output: Words list sorted by length (in-place): ['cat', 'kiwi', 'apple', 'banana', 'grapefruit']\n```\n\n---\n\n### Which one to use?\n\n*   **Use `sorted()`:**\n    *   When you need to keep the original list unchanged.\n    *   When you need to sort an iterable that isn't a list (e.g., a tuple, set, string).\n    *   When you prefer functional programming style (non-mutating operations).\n\n*   **Use `list.sort()`:**\n    *   When you are dealing with a list and you no longer need the original unsorted order.\n    *   When memory efficiency is critical, as it avoids creating a new list.\n\nBoth methods use Python's Timsort algorithm, which is very efficient and stable (meaning the relative order of equal elements is preserved)."
          },
          "metadata": {}
        }
      ],
      "source": [
        "from IPython.display import Markdown\n",
        "\n",
        "response = client.models.generate_content(\n",
        "    model=MODEL_ID,\n",
        "    contents=\"Please give me python code to sort a list.\"\n",
        ")\n",
        "\n",
        "display(Markdown(response.text))"
      ]
    },
    {
      "cell_type": "markdown",
      "metadata": {
        "id": "BTdQtZri1Brs"
      },
      "source": [
        "## Store your key in an environment variable"
      ]
    },
    {
      "cell_type": "markdown",
      "metadata": {
        "id": "gZDX51Y27pN4"
      },
      "source": [
        "If you're using a different development environment (or calling the Gemini API through `cURL` in your terminal), it's recommended to store your key in an environment variable.\n",
        "\n",
        "To store your key in an environment variable, open your terminal and run:\n",
        "\n",
        "```export GOOGLE_API_KEY=\"YOUR_API_KEY\"```\n",
        "\n",
        "If you're using Python, you can add these two lines to your notebook to read the key:\n",
        "\n",
        "```\n",
        "import os\n",
        "client = genai.Client(api_key=os.environ['GOOGLE_API_KEY'])\n",
        "```\n",
        "\n",
        "Alternatively, if it isn't provided explicitly, the client will look for the API key.\n",
        "\n",
        "```\n",
        "client = genai.Client()\n",
        "```\n",
        "\n",
        "Or, if you're calling the API through your terminal using `cURL`, you can copy and paste this code to read your key from the environment variable.\n",
        "\n",
        "```\n",
        "curl \"https://generativelanguage.googleapis.com/v1beta/models/gemini-2.0-flash:generateContent?key=$GOOGLE_API_KEY\" \\\n",
        "    -H 'Content-Type: application/json' \\\n",
        "    -X POST \\\n",
        "    -d '{\n",
        "      \"contents\": [{\n",
        "        \"parts\":[{\n",
        "          \"text\": \"Please give me Python code to sort a list.\"\n",
        "        }]\n",
        "      }]\n",
        "    }'\n",
        "```\n"
      ]
    },
    {
      "cell_type": "markdown",
      "metadata": {
        "id": "CAOKOcax1xZY"
      },
      "source": [
        "## Learning more\n",
        "\n",
        "Now that you know how to manage your API key, you've everything to [get started](./Get_started.ipynb) with Gemini. Check all the [quickstart guides](https://github.com/google-gemini/cookbook/tree/main/quickstarts) from the Cookbook, and in particular the [Get started](./Get_started.ipynb) one."
      ]
    }
  ],
  "metadata": {
    "colab": {
      "name": "Authentication.ipynb",
      "provenance": []
    },
    "google": {
      "image_path": "/site-assets/images/share.png",
      "keywords": [
        "examples",
        "googleai",
        "samplecode",
        "python",
        "embed",
        "function"
      ]
    },
    "kernelspec": {
      "display_name": "Python 3",
      "name": "python3"
    }
  },
  "nbformat": 4,
  "nbformat_minor": 0
}